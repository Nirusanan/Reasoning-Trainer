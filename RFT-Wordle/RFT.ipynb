{
  "cells": [
    {
      "cell_type": "code",
      "execution_count": null,
      "metadata": {
        "id": "gH2dPjA_eqaN"
      },
      "outputs": [],
      "source": [
        "!pip install -q groq \"transformers==4.51.3\" \"datasets==3.5.0\" \"huggingface-hub==0.30.2\" \"peft==0.15.2\""
      ]
    },
    {
      "cell_type": "code",
      "execution_count": null,
      "metadata": {
        "id": "HCC4Sub_eyjD"
      },
      "outputs": [],
      "source": [
        "import os\n",
        "from groq import Groq"
      ]
    },
    {
      "cell_type": "code",
      "execution_count": null,
      "metadata": {
        "id": "yb-AU22AeyRA"
      },
      "outputs": [],
      "source": [
        "from transformers import AutoTokenizer\n",
        "\n",
        "base_model_id = \"Qwen/Qwen3-32B\"\n",
        "tokenizer = AutoTokenizer.from_pretrained(base_model_id)"
      ]
    },
    {
      "cell_type": "code",
      "execution_count": null,
      "metadata": {
        "id": "7LHpSBpceyOj"
      },
      "outputs": [],
      "source": [
        "from google.colab import userdata\n",
        "groq_api_key = userdata.get('GROQ_API_KEY')"
      ]
    },
    {
      "cell_type": "code",
      "execution_count": null,
      "metadata": {
        "id": "zj99LlgDeyLz"
      },
      "outputs": [],
      "source": [
        "client = Groq(\n",
        "    api_key=groq_api_key,\n",
        ")"
      ]
    },
    {
      "cell_type": "markdown",
      "metadata": {
        "id": "cbkONBe2e_lc"
      },
      "source": [
        "## Setting up prompts to play Wordle"
      ]
    },
    {
      "cell_type": "code",
      "execution_count": null,
      "metadata": {
        "id": "0LCG5wAce6g-"
      },
      "outputs": [],
      "source": [
        "SYSTEM_PROMPT = \"\"\"\n",
        "You are playing Wordle, a word-guessing game.\n",
        "\n",
        "### Game Rules:\n",
        "- You have **6 tries** to guess a secret **5-letter** word.\n",
        "- Each guess must be a valid **5-letter English word**.\n",
        "- After each guess, you will receive feedback indicating how close\n",
        "your guess was.\n",
        "\n",
        "### Feedback Format:\n",
        "Each letter in your guess will receive one of three symbols:\n",
        "1. ✓ : The letter is in the word and in the CORRECT position.\n",
        "2. - : The letter is in the word but in the WRONG position.\n",
        "3. x : The letter is NOT in the word.\n",
        "\n",
        "### Example:\n",
        "Secret Word: BRISK\n",
        "\n",
        "Guess 1: STORM → Feedback: S(-) T(x) O(x) R(-) M(x)\n",
        "Guess 2: BRAVE → Feedback: B(✓) R(✓) A(x) V(x) E(x)\n",
        "Guess 3: BRISK → Feedback: B(✓) R(✓) I(✓) S(✓) K(✓)\n",
        "\n",
        "### Response Format:\n",
        "Think through the problem and feedback step by step. Make sure to\n",
        "first add your step by step thought process within <think> </think>\n",
        "tags. Then, return your guessed word in the following format:\n",
        "<guess> guessed-word </guess>.\n",
        "\"\"\""
      ]
    },
    {
      "cell_type": "code",
      "execution_count": null,
      "metadata": {
        "id": "ixIB09Zne6ej"
      },
      "outputs": [],
      "source": [
        "from dataclasses import dataclass\n",
        "from enum import Enum\n",
        "from typing import List\n",
        "\n",
        "\n",
        "class LetterFeedback(Enum):\n",
        "    CORRECT = \"✓\"\n",
        "    WRONG_POS = \"-\"\n",
        "    WRONG_LETTER = \"x\"\n",
        "\n",
        "\n",
        "@dataclass\n",
        "class GuessWithFeedback:\n",
        "    guess: str\n",
        "    feedback: List[LetterFeedback]\n",
        "\n",
        "    def __repr__(self) -> str:\n",
        "        \"\"\"Returns a readable string showing the guess alongside\n",
        "        its letter-by-letter feedback.\"\"\"\n",
        "        feedback_str = \" \".join(f\"{letter}({fb.value})\" for letter, fb in zip(self.guess, self.feedback))\n",
        "        return f\"{self.guess} → Feedback: {feedback_str}\""
      ]
    },
    {
      "cell_type": "code",
      "execution_count": null,
      "metadata": {
        "id": "5mSBez2me6b2"
      },
      "outputs": [],
      "source": [
        "def render_user_prompt(past_guesses: List[GuessWithFeedback]) -> str:\n",
        "    \"\"\"Creates a user-facing prompt that includes past guesses\n",
        "    and their feedback.\"\"\"\n",
        "    prompt = \"Make a new 5-letter word guess.\"\n",
        "    if past_guesses:\n",
        "        prompt += \"\\n\\nHere is some previous feedback:\"\n",
        "        for i, guess in enumerate(past_guesses):\n",
        "            prompt += f\"\\nGuess {i+1}: {guess}\"\n",
        "    return prompt"
      ]
    },
    {
      "cell_type": "markdown",
      "source": [
        "## Play a single turn of Wordle\n",
        "Start by setting up the prompt with feedback for two prior guesses:"
      ],
      "metadata": {
        "id": "a31kDkaowYXp"
      }
    },
    {
      "cell_type": "code",
      "execution_count": null,
      "metadata": {
        "id": "meQ9O42prCaY"
      },
      "outputs": [],
      "source": [
        "secret_word = \"CRAFT\"\n",
        "\n",
        "past_guesses = [\n",
        "    GuessWithFeedback(\n",
        "        \"CRANE\", [\n",
        "            LetterFeedback.CORRECT,\n",
        "            LetterFeedback.CORRECT,\n",
        "            LetterFeedback.CORRECT,\n",
        "            LetterFeedback.WRONG_LETTER,\n",
        "            LetterFeedback.WRONG_LETTER,\n",
        "        ]),\n",
        "    GuessWithFeedback(\n",
        "        \"CRASH\", [\n",
        "            LetterFeedback.CORRECT,\n",
        "            LetterFeedback.CORRECT,\n",
        "            LetterFeedback.CORRECT,\n",
        "            LetterFeedback.WRONG_LETTER,\n",
        "            LetterFeedback.WRONG_LETTER,\n",
        "        ]),\n",
        "]"
      ]
    },
    {
      "cell_type": "code",
      "execution_count": null,
      "metadata": {
        "id": "3YXTMl5kj50r"
      },
      "outputs": [],
      "source": [
        "messages = [\n",
        "        {\n",
        "            \"role\": \"system\",\n",
        "            \"content\": SYSTEM_PROMPT\n",
        "        },\n",
        "        {\n",
        "            \"role\": \"user\",\n",
        "            \"content\": render_user_prompt(past_guesses)\n",
        "        },\n",
        "        {\n",
        "            \"role\": \"assistant\",\n",
        "            \"content\": \"Let me solve this step by step.\\n<think>\"\n",
        "        }\n",
        "    ]"
      ]
    },
    {
      "cell_type": "code",
      "execution_count": null,
      "metadata": {
        "id": "gukp_yIPe6Wh"
      },
      "outputs": [],
      "source": [
        "def generate_stream(prompt: str, adapter_id: str = \"\") -> str:\n",
        "    \"\"\"Streams a model-generated response from a prompt in\n",
        "    real-time and prints it as it arrives.\"\"\"\n",
        "    response = client.chat.completions.create(\n",
        "        model=adapter_id,\n",
        "        messages =prompt,\n",
        "        # Produce deterministic responses for evaluation\n",
        "        max_tokens=2048,\n",
        "        stream=True,\n",
        "    )\n",
        "\n",
        "    completion = \"\"\n",
        "    for chunk in response:\n",
        "        if chunk.choices[0].delta.content is not None:\n",
        "            content = chunk.choices[0].delta.content\n",
        "            print(content, end=\"\", flush=True)\n",
        "            completion += content\n",
        "    print()\n",
        "\n",
        "    return completion"
      ]
    },
    {
      "cell_type": "code",
      "source": [
        "base_completion = generate_stream(prompt = messages, adapter_id = base_model_id)"
      ],
      "metadata": {
        "colab": {
          "base_uri": "https://localhost:8080/"
        },
        "id": "sYDZijce0YI2",
        "outputId": "dbd929dc-58b4-4106-f5d1-8c3b4fbae4e0"
      },
      "execution_count": null,
      "outputs": [
        {
          "output_type": "stream",
          "name": "stdout",
          "text": [
            "<think>\n",
            "Okay, let's try to figure out the next guess based on the feedback given. \n",
            "\n",
            "First, the previous guesses and their feedback are:\n",
            "1. CRANE → C(✓), R(✓), A(✓), N(x), E(x)\n",
            "2. CRASH → C(✓), R(✓), A(✓), S(x), H(x)\n",
            "\n",
            "So the secret word must have C, R, and A in the first three positions. Because in both guesses, the first three letters (C, R, A) are marked as correct with ✓, which means they are in the right positions.\n",
            "\n",
            "The fourth letter in the first guess was N (x), meaning N is not in the word. In the second guess, the fourth letter is S (x), so S is also not present. Similarly, the fifth letter in the first guess was E (x), and in the second guess it's H (x), so E and H are excluded.\n",
            "\n",
            "So the correct word starts with C-R-A, and we need to determine the fourth and fifth letters. Since none of the other letters (N, S, E, H) from previous guesses are in the word, we need to find a valid 5-letter word that starts with CRA and has the fourth and fifth letters not in the excluded ones. Also, the fourth and fifth letters can't be E, H, N, or S.\n",
            "\n",
            "Next, we need to find a valid word starting with CRA. Let's think of possible words. Common words starting with CRA might include CRATE, CRATE has T and E, but E was excluded so that's not it. Maybe CRAMP? Wait, the fourth letter here is M. Wait, but in CRASH and CRANE, the fourth letters were S and N, both marked as x. So the fourth letter in the secret word is not S or N. But for C- R- A- ?, maybe the fourth letter is something else.\n",
            "\n",
            "What about CRAWS? No, that's not a valid word. How about CRACK? Let me check. If the word is CRACK, but the first three letters are CRA, correct. The fourth letter is K. But the fifth letter is K, but maybe that's not right. Wait, in previous feedback, in the first guess, the fifth letter was E (x), and in the second guess, H (x). So the fifth letter can be K if that's allowed. But I need to check if CRACK is a valid word and fits. But wait, let's think of other possibilities.\n",
            "\n",
            "Another possibility is CRATE, but E is in the fifth position, which is excluded. So that's not allowed. How about CRAMP? Let me check. The fourth letter would be M, fifth P. Are those allowed? Since in the given feedback, M wasn't excluded. So the guess could be CRAMP. But let's verify. If we guess CRAMP, the letters would be C, R, A, M, P. None of those letters are in the excluded list (E, H, N, S). So that's possible.\n",
            "\n",
            "Wait, but another idea: The secret word has the first three letters as CRA. What about CRAZE? No, because E is excluded. CRAHS? No, that's not a word. Maybe CRAZY? Wait, but the word must be exactly five letters. CRAZY has five letters (C-R-A-Z-Y). But Z and Y are allowed. Let's check if that fits. In the first guess, CRANE: the fourth letter N is x, and fifth E is x. In CRAZY, the fourth and fifth letters are Z and Y. Since the first three letters are correct, and the fourth and fifth letters are new. That's a possibility. \n",
            "\n",
            "But wait, the user hasn't given feedback for any other letters. So when I guess CRAZY, the first three letters are correct, and the fourth and fifth letters could be checked. So CRAZY might be a valid guess. But wait, is CRAZY a valid Wordle word? Let me confirm. Yes, CRAZY is a valid English word. So the next guess could be CRAZY.\n",
            "\n",
            "Alternatively, maybe CRAAL? No, that's not a valid word. Or CARAVAN? That's too long. So possible words are CRAZY, CRAMP, CRAWL? But CRAWL's fourth letter is W, which hasn't been excluded yet. So that's another possibility. Wait, the exclusions are N, S, E, H. So if the secret word is CRAWL, the fourth letter is W (allowed) and fifth L. That's possible.\n",
            "\n",
            "But how do we decide between CRAZY and CRAWL? Well, the next step would be to make a guess that could give us more information. So perhaps CRAZY is a better guess. Let me check the letters. In CRAZY, the fourth letter is Z, which isn't in previous guesses, and fifth is Y. Since in the previous exclusions, Z and Y are not excluded. So if the game gives us feedback for the Z and Y positions, that might help. \n",
            "\n",
            "Another option is CRAMP, with M and P. Let me see. But perhaps the best approach is to pick a word that is valid and fits the known constraints. The user's next guess needs to start with CRA, and the fourth and fifth letters must not be E, H, N, or S. So possible valid words include CRAMP, CRAWL, CRAZY, etc. \n",
            "\n",
            "Between these, let's choose CRAZY. Let me verify that it's a valid English word. Yes, CRAZY is a real word. So the next guess would be CRAZY, with the letters C, R, A, Z, Y. All first three letters are correct, and the fourth and fifth letters are not excluded. That should be a good next guess.\n",
            "</think>\n",
            "\n",
            "<guess> CRAZY </guess>\n"
          ]
        }
      ]
    },
    {
      "cell_type": "markdown",
      "source": [
        "## Playing a game of wordle\n",
        "\n",
        "Start by setting up a helper function that gets feedback on a guess:"
      ],
      "metadata": {
        "id": "xDHgAp3Ww2Wy"
      }
    },
    {
      "cell_type": "code",
      "source": [
        "import re\n",
        "\n",
        "def get_feedback(guess: str, secret_word: str) -> List[LetterFeedback]:\n",
        "    valid_letters = set(secret_word)\n",
        "    feedback = []\n",
        "    for letter, secret_letter in zip(guess, secret_word):\n",
        "        if letter == secret_letter:\n",
        "            feedback.append(LetterFeedback.CORRECT)\n",
        "        elif letter in valid_letters:\n",
        "            feedback.append(LetterFeedback.WRONG_POS)\n",
        "        else:\n",
        "            feedback.append(LetterFeedback.WRONG_LETTER)\n",
        "    return feedback"
      ],
      "metadata": {
        "id": "S-1JpolcwzNX"
      },
      "execution_count": null,
      "outputs": []
    },
    {
      "cell_type": "markdown",
      "source": [
        "Now create a `next_turn` function that incorporates feedback on a guess into the prompt to the LLM:"
      ],
      "metadata": {
        "id": "SPhVJcWRxDLZ"
      }
    },
    {
      "cell_type": "code",
      "source": [
        "secret_word = \"BRICK\"\n",
        "past_guesses = []\n",
        "adapter_id = \"Qwen/Qwen3-32B\""
      ],
      "metadata": {
        "id": "-y8y38AX3vhv"
      },
      "execution_count": null,
      "outputs": []
    },
    {
      "cell_type": "code",
      "source": [
        "messages = [\n",
        "        {\n",
        "            \"role\": \"system\",\n",
        "            \"content\": SYSTEM_PROMPT\n",
        "        },\n",
        "        {\n",
        "            \"role\": \"user\",\n",
        "            \"content\": render_user_prompt(past_guesses)\n",
        "        },\n",
        "        {\n",
        "            \"role\": \"assistant\",\n",
        "            \"content\": \"Let me solve this step by step.\\n<think>\"\n",
        "        }\n",
        "    ]"
      ],
      "metadata": {
        "id": "Bf0xdBs83oBM"
      },
      "execution_count": null,
      "outputs": []
    },
    {
      "cell_type": "code",
      "source": [
        "def next_turn(\n",
        "    past_guesses: List[GuessWithFeedback],\n",
        "    secret_word: str,\n",
        "    adapter_id = \"\"\n",
        "):\n",
        "    completion = generate_stream(messages, adapter_id)\n",
        "    match = re.search(\n",
        "        r\"<guess>\\s*(.*?)\\s*</guess>\", completion, re.DOTALL\n",
        "    )\n",
        "    if not match:\n",
        "        raise RuntimeError(\"invalid guess\")\n",
        "\n",
        "    guess = match.group(1).upper()\n",
        "    feedback = get_feedback(guess, secret_word)\n",
        "    past_guesses.append(GuessWithFeedback(guess, feedback))\n",
        "    print(\"\\n\\n\")\n",
        "    print((\"-\" * 100) + \"\\n\")\n",
        "    for past_guess in past_guesses:\n",
        "        print(past_guess)\n",
        "\n",
        "    if guess == secret_word:\n",
        "        print(\"🎉 SUCCESS 🎉\")\n",
        "    elif len(past_guesses) >= 6:\n",
        "        print(\"❌ better luck next time... ❌\")"
      ],
      "metadata": {
        "id": "gyETiyjlwzGq"
      },
      "execution_count": null,
      "outputs": []
    },
    {
      "cell_type": "code",
      "source": [
        "next_turn(past_guesses, secret_word, adapter_id)"
      ],
      "metadata": {
        "colab": {
          "base_uri": "https://localhost:8080/"
        },
        "id": "NqJRLEFixL3X",
        "outputId": "db0d12c4-b465-405c-a64b-2087f4c37191"
      },
      "execution_count": null,
      "outputs": [
        {
          "output_type": "stream",
          "name": "stdout",
          "text": [
            "<think>\n",
            "Okay, let's see. I need to figure out the secret 5-letter Wordle word. Since I have no prior guesses yet, my first step is to make an initial guess that can give me the most information. A common strategy is to start with a word that has a mix of vowels and consonants because that can help narrow down possibilities quickly. Words like \"CRANE\" or \"AUDIO\" are often recommended.\n",
            "\n",
            "Wait, but maybe I should go with a more common starting word. Let me recall, some people use \"ADIEU\" or \"SOARE\" because they contain many vowels and useful consonants. Alternatively, \"STARE\" is another option. Hmm. Let me pick a word that has a good spread of letters. How about \"CRANE\"? Let me think. C, R, A, N, E. Contains two vowels (A and E), and some common consonants. That might be a good start.\n",
            "\n",
            "Alternatively, if I choose \"STARE,\" that's S, T, A, R, E. Those are all high-frequency letters. Let's decide. Maybe \"CRANE\" is better because it includes C and N, which are a bit less common but still useful. Let's proceed with \"CRANE\" as the first guess. The feedback will tell me which letters are correct, which are present but misplaced, and which are not there. Once I get the feedback, I can adjust my next guesses accordingly. Let me go ahead and make that guess.\n",
            "</think>\n",
            "\n",
            "<guess> CRANE </guess>\n",
            "\n",
            "\n",
            "\n",
            "----------------------------------------------------------------------------------------------------\n",
            "\n",
            "CRANE → Feedback: C(-) R(✓) A(x) N(x) E(x)\n"
          ]
        }
      ]
    }
  ],
  "metadata": {
    "colab": {
      "provenance": []
    },
    "kernelspec": {
      "display_name": "Python 3",
      "name": "python3"
    },
    "language_info": {
      "name": "python"
    }
  },
  "nbformat": 4,
  "nbformat_minor": 0
}