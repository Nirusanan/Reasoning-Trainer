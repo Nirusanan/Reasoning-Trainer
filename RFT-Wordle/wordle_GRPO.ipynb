{
  "nbformat": 4,
  "nbformat_minor": 0,
  "metadata": {
    "colab": {
      "provenance": [],
      "gpuType": "A100"
    },
    "kernelspec": {
      "name": "python3",
      "display_name": "Python 3"
    },
    "language_info": {
      "name": "python"
    },
    "accelerator": "GPU"
  },
  "cells": [
    {
      "cell_type": "code",
      "execution_count": null,
      "metadata": {
        "id": "qMwnK3ZWd-ws"
      },
      "outputs": [],
      "source": [
        "!pip install -q transformers accelerate datasets trl pandas bitsandbytes"
      ]
    },
    {
      "cell_type": "code",
      "source": [
        "import os, torch, re, ast, math, pandas as pd\n",
        "from datasets import load_dataset\n",
        "from transformers import AutoTokenizer, AutoModelForCausalLM\n",
        "from trl import GRPOTrainer, GRPOConfig\n",
        "from typing import List\n",
        "from peft import LoraConfig, get_peft_model"
      ],
      "metadata": {
        "id": "_nt8xvMNeD8g"
      },
      "execution_count": null,
      "outputs": []
    },
    {
      "cell_type": "code",
      "source": [
        "dataset = load_dataset(\"predibase/wordle-grpo\", split=\"train\")\n",
        "print(dataset[0])"
      ],
      "metadata": {
        "colab": {
          "base_uri": "https://localhost:8080/"
        },
        "id": "CuqztDqZeHFX",
        "outputId": "0ffd45a8-9e52-4af9-e6c6-0bad6badb57d"
      },
      "execution_count": null,
      "outputs": [
        {
          "output_type": "stream",
          "name": "stdout",
          "text": [
            "{'prompt': '<|im_start|>system\\n\\nYou are playing Wordle, a word-guessing game.\\n\\n### Game Rules:\\n- You have **6 tries** to guess a secret **5-letter** word.\\n- Each guess must be a valid **5-letter English word**.\\n- After each guess, you will receive feedback indicating how close your guess was.\\n\\n### Feedback Format:\\nEach letter in your guess will receive one of three symbols:\\n1. ✓ : The letter is in the word and in the CORRECT position.\\n2. - : The letter is in the word but in the WRONG position.\\n3. x : The letter is NOT in the word.\\n\\n### Example:\\nSecret Word: BRISK\\n\\nGuess 1: STORM → Feedback: S(-) T(x) O(x) R(-) M(x)\\nGuess 2: BRAVE → Feedback: B(✓) R(✓) A(x) V(x) E(x)\\nGuess 3: BRISK → Feedback: B(✓) R(✓) I(✓) S(✓) K(✓)\\n\\n### Response Format:\\nThink through the problem and feedback step by step. Make sure to first add your step by step thought process within <think> </think> tags. Then, return your guessed word in the following format: <guess> guessed-word </guess>.\\n<|im_end|>\\n<|im_start|>user\\nMake your first 5-letter word guess.<|im_end|>\\n<|im_start|>assistant\\nLet me solve this step by step.\\n<think>', 'word_list': 'https://raw.githubusercontent.com/arnavgarg1/arnavgarg1/refs/heads/main/five_letter_words.csv', 'past_guess_history': '[]', 'secret': 'ABHOR'}\n"
          ]
        }
      ]
    },
    {
      "cell_type": "code",
      "source": [
        "print(dataset[0].keys())"
      ],
      "metadata": {
        "colab": {
          "base_uri": "https://localhost:8080/"
        },
        "id": "G7w9DDIieZN9",
        "outputId": "f3c596b3-52c6-46e9-8c80-d28b2eb27036"
      },
      "execution_count": null,
      "outputs": [
        {
          "output_type": "stream",
          "name": "stdout",
          "text": [
            "dict_keys(['prompt', 'word_list', 'past_guess_history', 'secret'])\n"
          ]
        }
      ]
    },
    {
      "cell_type": "code",
      "source": [
        "model_name = \"Qwen/Qwen2.5-7B-Instruct\"\n",
        "tokenizer = AutoTokenizer.from_pretrained(model_name)\n",
        "model = AutoModelForCausalLM.from_pretrained(\n",
        "    model_name, torch_dtype=\"auto\", device_map=\"auto\"\n",
        ")"
      ],
      "metadata": {
        "id": "Vt820VHkecY-"
      },
      "execution_count": null,
      "outputs": []
    },
    {
      "cell_type": "code",
      "source": [
        "lora_alpha = 16\n",
        "lora_dropout = 0.1\n",
        "lora_r = 64\n",
        "\n",
        "lora_config = LoraConfig(\n",
        "    r=lora_r,\n",
        "    lora_alpha=lora_alpha,\n",
        "    target_modules=[\n",
        "        \"q_proj\", \"k_proj\", \"v_proj\", \"o_proj\",\n",
        "        \"gate_proj\", \"up_proj\", \"down_proj\"\n",
        "    ],\n",
        "    lora_dropout=lora_dropout,\n",
        "    bias=\"none\",\n",
        "    task_type=\"CAUSAL_LM\",\n",
        ")\n",
        "\n",
        "model = get_peft_model(model, lora_config)\n",
        "model.print_trainable_parameters()"
      ],
      "metadata": {
        "colab": {
          "base_uri": "https://localhost:8080/"
        },
        "id": "HBP2k6wde7gq",
        "outputId": "0976b7f4-f671-4a96-9530-2b6a2ba60522"
      },
      "execution_count": null,
      "outputs": [
        {
          "output_type": "stream",
          "name": "stdout",
          "text": [
            "trainable params: 161,480,704 || all params: 7,777,097,216 || trainable%: 2.0764\n"
          ]
        }
      ]
    },
    {
      "cell_type": "code",
      "source": [
        "# Reward Functions\n",
        "def output_format_check(prompts, completions, examples=None, **kwargs) -> List[float]:\n",
        "    \"\"\"Reward 1: Ensure completion has valid <think>...</think> and <guess>...</guess> format and guess is valid.\"\"\"\n",
        "    rewards = []\n",
        "    for i, completion in enumerate(completions):\n",
        "        reward = 0.0\n",
        "        try:\n",
        "            completion = \"<think>\" + completion  # simulate prefix\n",
        "            regex = (\n",
        "                r\"^<think>\\s*([^<]*(?:<(?!/?think>)[^<]*)*)\\s*<\\/think>\\n\"\n",
        "                r\"<guess>\\s*([\\s\\S]*?)\\s*<\\/guess>$\"\n",
        "            )\n",
        "            match = re.search(regex, completion, re.DOTALL)\n",
        "            if not match:\n",
        "                rewards.append(0.0)\n",
        "                continue\n",
        "\n",
        "            guess = match.groups()[1].strip()\n",
        "            if len(guess) != 5:\n",
        "                rewards.append(0.1)\n",
        "                continue\n",
        "\n",
        "            word_list_obj = examples[i][\"word_list\"]\n",
        "            if isinstance(word_list_obj, list):\n",
        "                words = word_list_obj\n",
        "            elif isinstance(word_list_obj, str) and word_list_obj.endswith(\".csv\"):\n",
        "                words = pd.read_csv(word_list_obj)[\"Word\"].tolist()\n",
        "            else:\n",
        "                words = []\n",
        "\n",
        "            reward = 1.0 if guess in words else 0.5\n",
        "        except Exception:\n",
        "            reward = 0.0\n",
        "        rewards.append(reward)\n",
        "    return rewards\n",
        "\n",
        "\n",
        "def uses_previous_feedback(prompts, completions, examples=None, **kwargs) -> List[float]:\n",
        "    \"\"\"Reward 2: Reward if guess uses information from previous feedback effectively.\"\"\"\n",
        "    rewards = []\n",
        "    for i, completion in enumerate(completions):\n",
        "        reward = 0.0\n",
        "        try:\n",
        "            completion = \"<think>\" + completion\n",
        "            match = re.search(r\"<guess>\\s*([\\s\\S]*?)\\s*<\\/guess>$\", completion, re.DOTALL)\n",
        "            if not match:\n",
        "                rewards.append(0.0)\n",
        "                continue\n",
        "\n",
        "            guess = match.groups()[0].strip()\n",
        "            if len(guess) != 5:\n",
        "                rewards.append(0.0)\n",
        "                continue\n",
        "\n",
        "            # Parse guess history\n",
        "            past_guess_history = ast.literal_eval(examples[i][\"past_guess_history\"])\n",
        "            correct, valid, wrong = {}, {}, {}\n",
        "\n",
        "            for _, fb in past_guess_history:\n",
        "                parts = fb.split(\" \")\n",
        "                for pos, f in enumerate(parts):\n",
        "                    if \"✓\" in f:\n",
        "                        correct.setdefault(f[0], set()).add(pos)\n",
        "                    elif \"-\" in f:\n",
        "                        valid.setdefault(f[0], set()).add(pos)\n",
        "                    else:\n",
        "                        wrong.setdefault(f[0], set()).add(pos)\n",
        "\n",
        "            # Score based on adherence to feedback\n",
        "            for idx, letter in enumerate(guess):\n",
        "                if letter in correct and idx in correct[letter]:\n",
        "                    reward += 0.2\n",
        "                elif letter in valid and idx not in valid[letter]:\n",
        "                    reward += 0.1\n",
        "                elif letter in valid and idx in valid[letter]:\n",
        "                    reward -= 0.2\n",
        "                elif letter in wrong:\n",
        "                    reward -= 0.5\n",
        "                else:\n",
        "                    reward += 0.05\n",
        "        except Exception:\n",
        "            reward = 0.0\n",
        "        rewards.append(reward)\n",
        "    return rewards\n",
        "\n",
        "\n",
        "def guess_value(prompts, completions, examples=None, **kwargs) -> List[float]:\n",
        "    \"\"\"Reward 3: Information gain — how much the guess reduces uncertainty about the secret.\"\"\"\n",
        "    rewards = []\n",
        "\n",
        "    def validate_guess(secret, guess):\n",
        "        feedback, secret_list = [], list(secret)\n",
        "        for i, (g, s) in enumerate(zip(guess, secret)):\n",
        "            if g == s:\n",
        "                feedback.append(f\"{g}(✓)\")\n",
        "                secret_list[i] = None\n",
        "            else:\n",
        "                feedback.append(None)\n",
        "        for i, g in enumerate(guess):\n",
        "            if feedback[i] is None:\n",
        "                if g in secret_list:\n",
        "                    feedback[i] = f\"{g}(-)\"\n",
        "                    secret_list[secret_list.index(g)] = None\n",
        "                else:\n",
        "                    feedback[i] = f\"{g}(x)\"\n",
        "        return \" \".join(feedback)\n",
        "\n",
        "    def compute_info_gain(all_words, guess):\n",
        "        total = len(all_words)\n",
        "        if total == 0:\n",
        "            return 0.0\n",
        "        current_entropy = math.log2(total)\n",
        "        groups = {}\n",
        "        for word in all_words:\n",
        "            fb = validate_guess(word, guess)\n",
        "            pattern = \"\".join('1' if \"✓\" in x else ('0' if \"-\" in x else 'x') for x in fb.split())\n",
        "            groups.setdefault(pattern, []).append(word)\n",
        "        expected_entropy = sum(\n",
        "            (len(g)/total) * math.log2(len(g)) for g in groups.values() if len(g) > 0\n",
        "        )\n",
        "        return (current_entropy - expected_entropy) / current_entropy if current_entropy > 0 else 0.0\n",
        "\n",
        "    for i, completion in enumerate(completions):\n",
        "        reward = 0.0\n",
        "        try:\n",
        "            completion = \"<think>\" + completion\n",
        "            match = re.search(r\"<guess>\\s*([\\s\\S]*?)\\s*<\\/guess>$\", completion, re.DOTALL)\n",
        "            if not match:\n",
        "                rewards.append(0.0)\n",
        "                continue\n",
        "\n",
        "            guess = match.groups()[0].strip()\n",
        "            if len(guess) != 5:\n",
        "                rewards.append(0.0)\n",
        "                continue\n",
        "\n",
        "            word_list_obj = examples[i][\"word_list\"]\n",
        "            words = word_list_obj if isinstance(word_list_obj, list) else []\n",
        "\n",
        "            reward = compute_info_gain(words, guess)\n",
        "        except Exception:\n",
        "            reward = 0.0\n",
        "        rewards.append(reward)\n",
        "    return rewards"
      ],
      "metadata": {
        "id": "0ZzZiJPCd_5B"
      },
      "execution_count": null,
      "outputs": []
    },
    {
      "cell_type": "code",
      "source": [
        "training_args = GRPOConfig(\n",
        "    learning_rate=5e-5,\n",
        "    per_device_train_batch_size=2,\n",
        "    gradient_accumulation_steps=2,\n",
        "    num_generations=4,\n",
        "    max_prompt_length=512,\n",
        "    max_completion_length=256,\n",
        "    max_steps=200,\n",
        "    save_steps=25,\n",
        "    output_dir=\"./wordle_grpo_lora\",\n",
        "    report_to=\"tensorboard\",\n",
        ")"
      ],
      "metadata": {
        "id": "V7Fm2Bdzia70"
      },
      "execution_count": null,
      "outputs": []
    },
    {
      "cell_type": "code",
      "source": [
        "trainer = GRPOTrainer(\n",
        "    model=model,\n",
        "    processing_class=tokenizer,\n",
        "    train_dataset=dataset,\n",
        "    reward_funcs=[\n",
        "        output_format_check,\n",
        "        uses_previous_feedback,\n",
        "        guess_value,\n",
        "    ],\n",
        "    args=training_args,\n",
        ")"
      ],
      "metadata": {
        "id": "fEGUhk1OfJIJ"
      },
      "execution_count": null,
      "outputs": []
    },
    {
      "cell_type": "code",
      "source": [
        "trainer.train()"
      ],
      "metadata": {
        "colab": {
          "base_uri": "https://localhost:8080/",
          "height": 776
        },
        "id": "4FcDUef1fMwf",
        "outputId": "fc5ebd19-c158-4128-e33f-8ee5aaa8a97d"
      },
      "execution_count": null,
      "outputs": [
        {
          "output_type": "stream",
          "name": "stderr",
          "text": [
            "The tokenizer has new PAD/BOS/EOS tokens that differ from the model config and generation config. The model config and generation config were aligned accordingly, being updated with the tokenizer's values. Updated tokens: {'bos_token_id': None, 'pad_token_id': 151643}.\n"
          ]
        },
        {
          "output_type": "display_data",
          "data": {
            "text/plain": [
              "<IPython.core.display.HTML object>"
            ],
            "text/html": [
              "\n",
              "    <div>\n",
              "      \n",
              "      <progress value='200' max='200' style='width:300px; height:20px; vertical-align: middle;'></progress>\n",
              "      [200/200 40:13, Epoch 2/3]\n",
              "    </div>\n",
              "    <table border=\"1\" class=\"dataframe\">\n",
              "  <thead>\n",
              " <tr style=\"text-align: left;\">\n",
              "      <th>Step</th>\n",
              "      <th>Training Loss</th>\n",
              "    </tr>\n",
              "  </thead>\n",
              "  <tbody>\n",
              "    <tr>\n",
              "      <td>10</td>\n",
              "      <td>0.006600</td>\n",
              "    </tr>\n",
              "    <tr>\n",
              "      <td>20</td>\n",
              "      <td>0.022900</td>\n",
              "    </tr>\n",
              "    <tr>\n",
              "      <td>30</td>\n",
              "      <td>-0.016000</td>\n",
              "    </tr>\n",
              "    <tr>\n",
              "      <td>40</td>\n",
              "      <td>0.010900</td>\n",
              "    </tr>\n",
              "    <tr>\n",
              "      <td>50</td>\n",
              "      <td>-0.036800</td>\n",
              "    </tr>\n",
              "    <tr>\n",
              "      <td>60</td>\n",
              "      <td>0.020400</td>\n",
              "    </tr>\n",
              "    <tr>\n",
              "      <td>70</td>\n",
              "      <td>-0.023100</td>\n",
              "    </tr>\n",
              "    <tr>\n",
              "      <td>80</td>\n",
              "      <td>0.022500</td>\n",
              "    </tr>\n",
              "    <tr>\n",
              "      <td>90</td>\n",
              "      <td>-0.039900</td>\n",
              "    </tr>\n",
              "    <tr>\n",
              "      <td>100</td>\n",
              "      <td>-0.024300</td>\n",
              "    </tr>\n",
              "    <tr>\n",
              "      <td>110</td>\n",
              "      <td>0.011400</td>\n",
              "    </tr>\n",
              "    <tr>\n",
              "      <td>120</td>\n",
              "      <td>0.068900</td>\n",
              "    </tr>\n",
              "    <tr>\n",
              "      <td>130</td>\n",
              "      <td>0.035200</td>\n",
              "    </tr>\n",
              "    <tr>\n",
              "      <td>140</td>\n",
              "      <td>-0.001900</td>\n",
              "    </tr>\n",
              "    <tr>\n",
              "      <td>150</td>\n",
              "      <td>-0.029600</td>\n",
              "    </tr>\n",
              "    <tr>\n",
              "      <td>160</td>\n",
              "      <td>0.004600</td>\n",
              "    </tr>\n",
              "    <tr>\n",
              "      <td>170</td>\n",
              "      <td>0.046700</td>\n",
              "    </tr>\n",
              "    <tr>\n",
              "      <td>180</td>\n",
              "      <td>0.007300</td>\n",
              "    </tr>\n",
              "    <tr>\n",
              "      <td>190</td>\n",
              "      <td>0.010700</td>\n",
              "    </tr>\n",
              "    <tr>\n",
              "      <td>200</td>\n",
              "      <td>0.002200</td>\n",
              "    </tr>\n",
              "  </tbody>\n",
              "</table><p>"
            ]
          },
          "metadata": {}
        },
        {
          "output_type": "execute_result",
          "data": {
            "text/plain": [
              "TrainOutput(global_step=200, training_loss=0.004926497954875231, metrics={'train_runtime': 2436.467, 'train_samples_per_second': 0.328, 'train_steps_per_second': 0.082, 'total_flos': 0.0, 'train_loss': 0.004926497954875231})"
            ]
          },
          "metadata": {},
          "execution_count": 10
        }
      ]
    },
    {
      "cell_type": "code",
      "source": [
        "trainer.save_model(\"./wordle_grpo/final_model\")"
      ],
      "metadata": {
        "id": "RBB6NvlPfPAs"
      },
      "execution_count": null,
      "outputs": []
    },
    {
      "cell_type": "code",
      "source": [
        "base_model_name = \"Qwen/Qwen2.5-7B-Instruct\"\n",
        "adapter_dir = \"/content/wordle_grpo/final_model\"\n",
        "\n",
        "# Load tokenizer\n",
        "tokenizer = AutoTokenizer.from_pretrained(base_model_name)"
      ],
      "metadata": {
        "id": "kOvqx_sgeNB2"
      },
      "execution_count": null,
      "outputs": []
    },
    {
      "cell_type": "code",
      "source": [
        "from peft import PeftModel\n",
        "\n",
        "base_model = AutoModelForCausalLM.from_pretrained(\n",
        "    base_model_name,\n",
        "    torch_dtype=torch.float16,\n",
        "    device_map=\"auto\"\n",
        ")\n",
        "\n",
        "# Attach LoRA adapters\n",
        "model = PeftModel.from_pretrained(base_model, adapter_dir)"
      ],
      "metadata": {
        "id": "9P4t_qX6eR69"
      },
      "execution_count": null,
      "outputs": []
    },
    {
      "cell_type": "markdown",
      "source": [
        "## Inference"
      ],
      "metadata": {
        "id": "SLNYXKCv1B0_"
      }
    },
    {
      "cell_type": "code",
      "source": [
        "prompt= \"\"\"\n",
        "<|im_start|>system\n",
        "You are playing Wordle, a word-guessing game.\n",
        "\n",
        "### Game Rules:\n",
        "- You have **6 tries** to guess a secret **5-letter** word.\n",
        "- Each guess must be a valid **5-letter English word**.\n",
        "- After each guess, you will receive feedback indicating how close your guess was.\n",
        "\n",
        "### Feedback Format:\n",
        "Each letter in your guess will receive one of three symbols:\n",
        "1. ✓ : The letter is in the word and in the CORRECT position.\n",
        "2. - : The letter is in the word but in the WRONG position.\n",
        "3. x : The letter is NOT in the word.\n",
        "\n",
        "### Example:\n",
        "Secret Word: PLANT\n",
        "\n",
        "Guess 1: CRANE → Feedback: C(x) R(x) A(-) N(✓) E(x)\n",
        "Guess 2: STONE → Feedback: S(x) T(x) O(x) N(✓) E(x)\n",
        "Guess 3: PLANT → Feedback: P(✓) L(✓) A(✓) N(✓) T(✓)\n",
        "\n",
        "### Response Format:\n",
        "Think through the problem and feedback step by step.\n",
        "Make sure to include your reasoning inside <think></think> tags.\n",
        "Then, return your final guess in this format: <guess> guessed-word </guess>.\n",
        "<|im_end|>\n",
        "<|im_start|>user\n",
        "Make a new 5-letter word guess.\n",
        "\n",
        "Here is some previous feedback:\n",
        "Guess 1: SLATE → Feedback: S(x) L(-) A(x) T(x) E(-)\n",
        "Guess 2: PRONG → Feedback: P(✓) R(x) O(x) N(x) G(x)\n",
        "<|im_end|>\n",
        "\"\"\""
      ],
      "metadata": {
        "id": "ec7bai3Pzpyt"
      },
      "execution_count": null,
      "outputs": []
    },
    {
      "cell_type": "code",
      "source": [
        "inputs = tokenizer(prompt, return_tensors=\"pt\").to(model.device)\n",
        "\n",
        "output = model.generate(\n",
        "    **inputs,\n",
        "    max_new_tokens=2000,\n",
        "    temperature=0.7,\n",
        "    top_p=0.9,\n",
        "    do_sample=True,\n",
        "    pad_token_id=tokenizer.eos_token_id\n",
        ")\n",
        "\n",
        "decoded = tokenizer.decode(output[0], skip_special_tokens=True)\n",
        "print(decoded)"
      ],
      "metadata": {
        "colab": {
          "base_uri": "https://localhost:8080/"
        },
        "id": "q-qTg1q1z75j",
        "outputId": "6b3eae81-09ea-44f1-ed13-6c0f50bb5698"
      },
      "execution_count": null,
      "outputs": [
        {
          "output_type": "stream",
          "name": "stdout",
          "text": [
            "\n",
            "system\n",
            "You are playing Wordle, a word-guessing game.\n",
            "\n",
            "### Game Rules:\n",
            "- You have **6 tries** to guess a secret **5-letter** word.\n",
            "- Each guess must be a valid **5-letter English word**.\n",
            "- After each guess, you will receive feedback indicating how close your guess was.\n",
            "\n",
            "### Feedback Format:\n",
            "Each letter in your guess will receive one of three symbols:\n",
            "1. ✓ : The letter is in the word and in the CORRECT position.\n",
            "2. - : The letter is in the word but in the WRONG position.\n",
            "3. x : The letter is NOT in the word.\n",
            "\n",
            "### Example:\n",
            "Secret Word: PLANT\n",
            "\n",
            "Guess 1: CRANE → Feedback: C(x) R(x) A(-) N(✓) E(x)\n",
            "Guess 2: STONE → Feedback: S(x) T(x) O(x) N(✓) E(x)\n",
            "Guess 3: PLANT → Feedback: P(✓) L(✓) A(✓) N(✓) T(✓)\n",
            "\n",
            "### Response Format:\n",
            "Think through the problem and feedback step by step.\n",
            "Make sure to include your reasoning inside <think></think> tags.\n",
            "Then, return your final guess in this format: <guess> guessed-word </guess>.\n",
            "\n",
            "user\n",
            "Make a new 5-letter word guess.\n",
            "\n",
            "Here is some previous feedback:\n",
            "Guess 1: SLATE → Feedback: S(x) L(-) A(x) T(x) E(-)\n",
            "Guess 2: PRONG → Feedback: P(✓) R(x) O(x) N(x) G(x)\n",
            "\n",
            "system\n",
            "<think>\n",
            "Given the feedback from the previous guesses, we know:\n",
            "- The word starts with P.\n",
            "- The second, third, fourth, and fifth letters are not R, O, N, or G.\n",
            "\n",
            "Let's try a word that includes common letters like A, I, or E to see if we can get more information.\n",
            "</think>\n",
            "<guess>PAIL</guess>\n"
          ]
        }
      ]
    },
    {
      "cell_type": "code",
      "source": [
        "inputs = tokenizer(prompt, return_tensors=\"pt\").to(model.device)\n",
        "\n",
        "output = merged_model.generate(\n",
        "    **inputs,\n",
        "    max_new_tokens=1500,\n",
        "    temperature=0.7,\n",
        "    top_p=0.9,\n",
        "    do_sample=True,\n",
        "    pad_token_id=tokenizer.eos_token_id\n",
        ")\n",
        "\n",
        "decoded = tokenizer.decode(output[0], skip_special_tokens=True)\n",
        "print(decoded)"
      ],
      "metadata": {
        "colab": {
          "base_uri": "https://localhost:8080/"
        },
        "id": "mKfYGZ75ab0E",
        "outputId": "4b7868de-1fec-42cc-b75d-0d293f388254"
      },
      "execution_count": null,
      "outputs": [
        {
          "output_type": "stream",
          "name": "stdout",
          "text": [
            "\n",
            "system\n",
            "You are playing Wordle, a word-guessing game.\n",
            "\n",
            "### Game Rules:\n",
            "- You have **6 tries** to guess a secret **5-letter** word.\n",
            "- Each guess must be a valid **5-letter English word**.\n",
            "- After each guess, you will receive feedback indicating how close your guess was.\n",
            "\n",
            "### Feedback Format:\n",
            "Each letter in your guess will receive one of three symbols:\n",
            "1. ✓ : The letter is in the word and in the CORRECT position.\n",
            "2. - : The letter is in the word but in the WRONG position.\n",
            "3. x : The letter is NOT in the word.\n",
            "\n",
            "### Example:\n",
            "Secret Word: PLANT\n",
            "\n",
            "Guess 1: CRANE → Feedback: C(x) R(x) A(-) N(✓) E(x)\n",
            "Guess 2: STONE → Feedback: S(x) T(x) O(x) N(✓) E(x)\n",
            "Guess 3: PLANT → Feedback: P(✓) L(✓) A(✓) N(✓) T(✓)\n",
            "\n",
            "### Response Format:\n",
            "Think through the problem and feedback step by step.\n",
            "Make sure to include your reasoning inside <think></think> tags.\n",
            "Then, return your final guess in this format: <guess> guessed-word </guess>.\n",
            "\n",
            "user\n",
            "Make a new 5-letter word guess.\n",
            "\n",
            "Here is some previous feedback:\n",
            "Guess 1: SLATE → Feedback: S(x) L(-) A(x) T(x) E(-)\n",
            "Guess 2: PRONG → Feedback: P(✓) R(x) O(x) N(x) G(x)\n",
            "\n",
            "system\n",
            "<think>\n",
            "Given the feedback, we know:\n",
            "- P is correct and in the correct position.\n",
            "- The word contains no letters from SLATE (S, L, A, T, E).\n",
            "- The word also doesn't contain any of the letters from PRONG (R, O, N, G).\n",
            "\n",
            "Let's try a word that starts with P and includes other letters not used in the previous guesses.\n",
            "</think>\n",
            "<guess>PURSE</guess>\n"
          ]
        }
      ]
    }
  ]
}