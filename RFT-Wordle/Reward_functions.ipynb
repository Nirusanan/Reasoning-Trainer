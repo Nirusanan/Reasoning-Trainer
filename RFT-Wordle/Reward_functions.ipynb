{
  "cells": [
    {
      "cell_type": "code",
      "source": [
        "!pip install -q groq \"transformers==4.51.3\" \"datasets==3.5.0\" \"huggingface-hub==0.30.2\" \"peft==0.15.2\""
      ],
      "metadata": {
        "id": "Y1LFMya0o3Zw"
      },
      "id": "Y1LFMya0o3Zw",
      "execution_count": null,
      "outputs": []
    },
    {
      "cell_type": "code",
      "source": [
        "import os\n",
        "from groq import Groq"
      ],
      "metadata": {
        "id": "sZ4zo1Qto3XN"
      },
      "id": "sZ4zo1Qto3XN",
      "execution_count": null,
      "outputs": []
    },
    {
      "cell_type": "code",
      "source": [
        "from google.colab import userdata\n",
        "groq_api_key = userdata.get('GROQ_API_KEY')"
      ],
      "metadata": {
        "id": "Jc9_wodKo3Uz"
      },
      "id": "Jc9_wodKo3Uz",
      "execution_count": null,
      "outputs": []
    },
    {
      "cell_type": "code",
      "source": [
        "client = Groq(\n",
        "    api_key=groq_api_key,\n",
        ")"
      ],
      "metadata": {
        "id": "rOV0DnoAo3SV"
      },
      "id": "rOV0DnoAo3SV",
      "execution_count": null,
      "outputs": []
    },
    {
      "cell_type": "code",
      "source": [
        "SYSTEM_PROMPT = \"\"\"\n",
        "You are playing Wordle, a word-guessing game.\n",
        "\n",
        "### Game Rules:\n",
        "- You have **6 tries** to guess a secret **5-letter** word.\n",
        "- Each guess must be a valid **5-letter English word**.\n",
        "- After each guess, you will receive feedback indicating how close\n",
        "your guess was.\n",
        "\n",
        "### Feedback Format:\n",
        "Each letter in your guess will receive one of three symbols:\n",
        "1. ✓ : The letter is in the word and in the CORRECT position.\n",
        "2. - : The letter is in the word but in the WRONG position.\n",
        "3. x : The letter is NOT in the word.\n",
        "\n",
        "### Example:\n",
        "Secret Word: BRISK\n",
        "\n",
        "Guess 1: STORM → Feedback: S(-) T(x) O(x) R(-) M(x)\n",
        "Guess 2: BRAVE → Feedback: B(✓) R(✓) A(x) V(x) E(x)\n",
        "Guess 3: BRISK → Feedback: B(✓) R(✓) I(✓) S(✓) K(✓)\n",
        "\n",
        "### Response Format:\n",
        "Think through the problem and feedback step by step. Make sure to\n",
        "first add your step by step thought process within <think> </think>\n",
        "tags. Then, return your guessed word in the following format:\n",
        "<guess> guessed-word </guess>.\n",
        "\"\"\""
      ],
      "metadata": {
        "id": "zhBSo1iBo3O5"
      },
      "id": "zhBSo1iBo3O5",
      "execution_count": null,
      "outputs": []
    },
    {
      "cell_type": "code",
      "source": [
        "from dataclasses import dataclass\n",
        "from enum import Enum\n",
        "from typing import List\n",
        "\n",
        "\n",
        "class LetterFeedback(Enum):\n",
        "    CORRECT = \"✓\"\n",
        "    WRONG_POS = \"-\"\n",
        "    WRONG_LETTER = \"x\"\n",
        "\n",
        "\n",
        "@dataclass\n",
        "class GuessWithFeedback:\n",
        "    guess: str\n",
        "    feedback: List[LetterFeedback]\n",
        "\n",
        "    def __repr__(self) -> str:\n",
        "        feedback_str = \" \".join(f\"{letter}({fb.value})\" for letter, fb in zip(self.guess, self.feedback))\n",
        "        return f\"{self.guess} → Feedback: {feedback_str}\"\n",
        "\n",
        "    @classmethod\n",
        "    def from_secret(cls, guess: str, secret: str) -> \"GuessWithFeedback\":\n",
        "        \"\"\"\n",
        "        Compute Wordle-style feedback for `guess` against `secret`.\n",
        "\n",
        "        Rules implemented:\n",
        "        - First mark letters that are correct (same letter same position).\n",
        "        - For remaining letters in guess, mark WRONG_POS if that letter\n",
        "          appears among the unmatched letters of the secret (consuming one occurrence),\n",
        "          otherwise mark WRONG_LETTER.\n",
        "        This handles duplicate letters correctly.\n",
        "        \"\"\"\n",
        "        if len(guess) != len(secret):\n",
        "            raise ValueError(\"guess and secret must be the same length\")\n",
        "\n",
        "        guess = guess.upper()\n",
        "        secret = secret.upper()\n",
        "        n = len(guess)\n",
        "\n",
        "        # Defaults\n",
        "        feedback: List[LetterFeedback] = [LetterFeedback.WRONG_LETTER] * n\n",
        "\n",
        "        # First pass: mark CORRECT and collect unmatched secret letters\n",
        "        secret_unmatched: List[str] = []\n",
        "        for i in range(n):\n",
        "            if guess[i] == secret[i]:\n",
        "                feedback[i] = LetterFeedback.CORRECT\n",
        "            else:\n",
        "                secret_unmatched.append(secret[i])\n",
        "\n",
        "        # Second pass: for non-CORRECT positions, check if letter exists in unmatched secret letters\n",
        "        for i in range(n):\n",
        "            if feedback[i] == LetterFeedback.CORRECT:\n",
        "                continue\n",
        "            if guess[i] in secret_unmatched:\n",
        "                feedback[i] = LetterFeedback.WRONG_POS\n",
        "                # consume one occurrence so duplicates are handled correctly\n",
        "                secret_unmatched.remove(guess[i])\n",
        "            else:\n",
        "                feedback[i] = LetterFeedback.WRONG_LETTER\n",
        "\n",
        "        return cls(guess, feedback)"
      ],
      "metadata": {
        "id": "g16HjnZ4tPk_"
      },
      "id": "g16HjnZ4tPk_",
      "execution_count": null,
      "outputs": []
    },
    {
      "cell_type": "code",
      "source": [
        "def render_user_prompt(past_guesses: List[GuessWithFeedback]) -> str:\n",
        "    \"\"\"Creates a user-facing prompt that includes past guesses\n",
        "    and their feedback.\"\"\"\n",
        "    prompt = \"Make a new 5-letter word guess.\"\n",
        "    if past_guesses:\n",
        "        prompt += \"\\n\\nHere is some previous feedback:\"\n",
        "        for i, guess in enumerate(past_guesses):\n",
        "            prompt += f\"\\nGuess {i+1}: {guess}\"\n",
        "    return prompt"
      ],
      "metadata": {
        "id": "8fTh6FC9o3I5"
      },
      "id": "8fTh6FC9o3I5",
      "execution_count": null,
      "outputs": []
    },
    {
      "cell_type": "code",
      "source": [
        "def wordle_reward(guess: str, secret_word: str) -> int:\n",
        "    if guess.upper() == secret_word.upper():\n",
        "        return 1   # correct guess\n",
        "    else:\n",
        "        return 0   # incorrect guess"
      ],
      "metadata": {
        "id": "V4WZt9lNpTBv"
      },
      "id": "V4WZt9lNpTBv",
      "execution_count": null,
      "outputs": []
    },
    {
      "cell_type": "code",
      "source": [
        "secret_word = \"POUND\"\n",
        "\n",
        "past_guesses = [\n",
        "    GuessWithFeedback.from_secret(guess=\"CRANE\", secret=secret_word),\n",
        "    GuessWithFeedback.from_secret(guess=\"BLOND\", secret=secret_word),\n",
        "    GuessWithFeedback.from_secret(guess=\"FOUND\", secret=secret_word),\n",
        "]\n",
        "past_guesses"
      ],
      "metadata": {
        "colab": {
          "base_uri": "https://localhost:8080/"
        },
        "id": "mzhj7jZFpTxT",
        "outputId": "a8e27444-2067-432a-f4a6-356561de7130"
      },
      "id": "mzhj7jZFpTxT",
      "execution_count": null,
      "outputs": [
        {
          "output_type": "execute_result",
          "data": {
            "text/plain": [
              "[CRANE → Feedback: C(x) R(x) A(x) N(✓) E(x),\n",
              " BLOND → Feedback: B(x) L(x) O(-) N(✓) D(✓),\n",
              " FOUND → Feedback: F(x) O(✓) U(✓) N(✓) D(✓)]"
            ]
          },
          "metadata": {},
          "execution_count": 9
        }
      ]
    },
    {
      "cell_type": "code",
      "source": [
        "messages = [\n",
        "        {\n",
        "            \"role\": \"system\",\n",
        "            \"content\": SYSTEM_PROMPT\n",
        "        },\n",
        "        {\n",
        "            \"role\": \"user\",\n",
        "            \"content\": render_user_prompt(past_guesses)\n",
        "        },\n",
        "        {\n",
        "            \"role\": \"assistant\",\n",
        "            \"content\": \"Let me solve this step by step.\\n<think>\"\n",
        "        }\n",
        "    ]"
      ],
      "metadata": {
        "id": "ClXdYplGo2-u"
      },
      "id": "ClXdYplGo2-u",
      "execution_count": null,
      "outputs": []
    },
    {
      "cell_type": "code",
      "source": [
        "def generate_stream(prompt: str, adapter_id: str = \"\") -> str:\n",
        "    \"\"\"Streams a model-generated response from a prompt in\n",
        "    real-time and prints it as it arrives.\"\"\"\n",
        "    response = client.chat.completions.create(\n",
        "        model=adapter_id,\n",
        "        messages =prompt,\n",
        "        max_tokens=2048,\n",
        "        stream=True,\n",
        "    )\n",
        "\n",
        "    completion = \"\"\n",
        "    for chunk in response:\n",
        "        if chunk.choices[0].delta.content is not None:\n",
        "            content = chunk.choices[0].delta.content\n",
        "            print(content, end=\"\", flush=True)\n",
        "            completion += content\n",
        "    print()\n",
        "\n",
        "    return completion"
      ],
      "metadata": {
        "id": "P1F8_UurpLtu"
      },
      "id": "P1F8_UurpLtu",
      "execution_count": null,
      "outputs": []
    },
    {
      "cell_type": "code",
      "source": [
        "import re\n",
        "\n",
        "def extract_guess(response: str) -> str:\n",
        "    \"\"\"\n",
        "    Extracts the guessed word from the model's response text.\n",
        "    Example:\n",
        "        response = \"<think> ... reasoning ... </think>\\n<guess> ROUND </guess>\"\n",
        "        -> returns \"ROUND\"\n",
        "    \"\"\"\n",
        "    match = re.search(r\"<guess>\\s*([A-Za-z]+)\\s*</guess>\", response)\n",
        "    if match:\n",
        "        return match.group(1).upper()\n",
        "    else:\n",
        "        # print(\"⚠️ No <guess> tag found in model output.\")\n",
        "        # return \"\"\n",
        "        raise ValueError(\"No <guess> tag found in response.\")"
      ],
      "metadata": {
        "id": "u1MfF-ip5RmS"
      },
      "id": "u1MfF-ip5RmS",
      "execution_count": null,
      "outputs": []
    },
    {
      "cell_type": "code",
      "source": [
        "response = generate_stream(prompt = messages, adapter_id = \"Qwen/Qwen3-32B\")"
      ],
      "metadata": {
        "id": "SHwD9NKI5RxA",
        "colab": {
          "base_uri": "https://localhost:8080/"
        },
        "outputId": "91b2f861-cff6-496c-e675-53dc86101768"
      },
      "id": "SHwD9NKI5RxA",
      "execution_count": null,
      "outputs": [
        {
          "output_type": "stream",
          "name": "stdout",
          "text": [
            "<think>\n",
            "Okay, let's see. I need to figure out the secret word based on the previous guesses and feedback. Let's go through each step carefully.\n",
            "\n",
            "Starting with Guess 1: CRANE → Feedback was C(x), R(x), A(x), N(✓), E(x). That means the letter N is in the correct position. The other letters (C, R, A, E) are not in the word at all. So the secret word has N in the 4th position.\n",
            "\n",
            "Guess 2: BLOND → Feedback B(x), L(x), O(-), N(✓), D(✓). Here, N and D are correct in position. O is in the word but in the wrong position. B and L are not in the word. So the secret word has D in the 5th position, and O is present but not in position 3. Also, from Guess 1, we know O wasn't part of the feedback before, so maybe O wasn't in the word. Wait, no. Wait, the first guess was CRANE, which didn't have O. So O is a new letter here. So O is in the word but not in position 3.\n",
            "\n",
            "Guess 3: FOUND → Feedback F(x), O(✓), U(✓), N(✓), D(✓). Oh, here O is in the correct position. Wait, the feedback for O here is ✓, meaning it's in position 2. Let me check the previous feedback. In Guess 2, BLOND had O in position 3 and got a '-', so that means O was in the word but not in position 3. Now in Guess 3, FOUND has O in position 2 and gets a ✓, so position 2 is correct. So O is definitely in position 2. Also, U in position 3 gets ✓. Hmm, so in this guess, the secret word has O in position 2, U in position 3, N in position 4, D in position 5. Wait, from Guess 3, FOUND gives O(✓) U(✓) N(✓) D(✓). So that would mean the secret word is _ O U N D.\n",
            "\n",
            "Wait, but what about the first letter? The secret word is a 5-letter word. So letters are [Letter1] O U N D. Let me check previous feedback for possible clues on the first letter.\n",
            "\n",
            "Looking back at guess 2: BLOND → B was x, L was x, O was -, N and D checked. So BLOND has L, B as not present. Guess 1's CRANE has C, R, A, E as x. So possible letters for first position: maybe from other guesses? Let's think.\n",
            "\n",
            "In guess 3: FOUND gives F as x, so F is not present. So letters ruled out so far include C, R, A, E, B, L, F. Also, from BLOND's feedback, O is in position 2. So the first letter is something else. Wait, in guess 3, FOUND, the first letter is F, which is x, so not in the word. So the secret word's first letter isn't F. Let's think about possible letters that haven't been ruled out yet.\n",
            "\n",
            "From the first guess CRANE, the letters C, R, A, E are out. From BLOND, B, L are out. So possible letters left for the first position could be... Maybe vowels? Let's think. The known letters are O, U in positions 2 and 3, N in 4, D in 5. Wait, but the secret word is five letters. The first letter is unknown. What letters are possible?\n",
            "\n",
            "Looking for a word that fits the pattern [X] O U N D. So the first letter is X. Let's think of possible letters. Let's check if there are any possible letters that might have been indicated through previous feedback. For example, in Guess 2, BLOND, the O was in position 3 but is now in position 2 in the correct place. Let's think of a word that ends with OUND or something similar. Maybe \"ROUND\"? Wait, but let me check the feedback for that. Let's see.\n",
            "\n",
            "Wait, if the secret word is ROUND, then let's check against previous feedback. But let's see if that fits:\n",
            "\n",
            "ROUND would be R O U N D. But in guess 1, CRANE had R as x, which would mean R is not in the word. So ROUND would be invalid because R is in it, but in guess 1, R was marked x. So R is out. Therefore, ROUND is not possible.\n",
            "\n",
            "Hmm. So first letter can't be R. Let's think again. What about \"BUILD\"? Let's check. B is x in guess 2, so B is out. No. What about \"MOULD\"? M O U L D. Wait, but in the third position, we have U. In guess 3, FOUND had U in position 3 and got a ✓, so that's correct. So maybe the secret word is MOULD? But wait, position 4 is N in the secret word. Wait, no. Because in guess 1, N was in position 4 and got a ✓. Also, guess 2's BLOND has N in position 4 and it got ✓. Guess 3's FOUND also has N in position 4 ✓. So secret word's 4th letter is N, 5th is D. So the word is _ O U N D. So letters are first, O, U, N, D.\n",
            "\n",
            "What words fit that pattern? Let's think. Let's check possible first letters. What about \"COULD\"? Wait, C was x in guess 1, so can't be. \"TOOTH\"? No. \"TOU...\"? Wait, maybe \"TOUSE\"? No. Or \"TRUON\"? Not a word. Let's think. The word must have the form _OUD with U in position 3 and D in 5. Wait, the secret structure is _ O U N D. So the first letter is something, then O, U, N, D. Let me check. Let's think of words ending with \"UND\". Hmm. Maybe \"ROUND\" but R was excluded. \"OUND\"? Wait, maybe the word is \"BUILD\", but B is excluded. \"POUND\"? P O U N D. Let me check if that's a valid possibility. POUND. Let's check against previous feedback.\n",
            "\n",
            "If the secret word is POUND:\n",
            "\n",
            "Guess 1: CRANE → C(x), R(x), A(x), N(✓), E(x). Correct, because POUND has N in position 4.\n",
            "\n",
            "Guess 2: BLOND → B(x), L(x), O(-), N(✓), D(✓). Here, O is in the word but wrong position. In BLOND, O is in position 3, but in POUND, O is in position 2. So that feedback makes sense. So O is in the word but in a different spot. Correct. N and D are ✓ as well.\n",
            "\n",
            "Guess 3: FOUND → F(x), O(✓), U(✓), N(✓), D(✓). POUND has O in position 2 ✓, U in position 3 ✓, N and D ✓. So that fits. \n",
            "\n",
            "So the secret word is POUND. So next step, the user would have to guess POUND, but since Guess 3 is FOUND, they might already know that. Wait, but the previous guesses given are up to guess 3, which is FOUND. But the user hasn't said it's correct, so perhaps the user is the one playing. The assistant is to make a new guess based on the feedback. Wait, in the problem, the assistant is to make a new guess. So in this case, after guess 3, the user wants the assistant to make another guess. So based on the feedback, the assistant thinks the word is POUND. Let me check if there are other possibilities. \n",
            "\n",
            "Another possible word could be \"SHOUT\", but that ends with T. Doesn't fit. \"MOUSE\"? No. \"OUNCE\"? No. \"POND\"? No. \"POUND\" seems the only one. Let me confirm. Since the first letter is P, which was not in any previous feedback, and all letters except P are allowed. In previous guesses, P wasn't used. So yes, POUND fits all feedback. Therefore, the next guess should be POUND.\n",
            "</think>\n",
            "\n",
            "<guess> POUND </guess>\n"
          ]
        }
      ]
    },
    {
      "cell_type": "code",
      "source": [
        "guess = extract_guess(response)\n",
        "reward = wordle_reward(guess, secret_word)\n",
        "\n",
        "print(f\"Guessed Word: {guess} -> Reward: {reward}\")"
      ],
      "metadata": {
        "colab": {
          "base_uri": "https://localhost:8080/"
        },
        "id": "qKuEOLRMuvWg",
        "outputId": "e5824b7e-c806-4f67-e306-ea7264f524c5"
      },
      "id": "qKuEOLRMuvWg",
      "execution_count": null,
      "outputs": [
        {
          "output_type": "stream",
          "name": "stdout",
          "text": [
            "Guessed Word: POUND -> Reward: 1\n"
          ]
        }
      ]
    },
    {
      "cell_type": "markdown",
      "source": [
        "## Using rewards to calculate advantages"
      ],
      "metadata": {
        "id": "8lGmje0NzyKW"
      },
      "id": "8lGmje0NzyKW"
    },
    {
      "cell_type": "code",
      "source": [
        "import numpy as np\n",
        "\n",
        "def compute_advantages(rewards: list):\n",
        "    rewards = np.array(rewards)\n",
        "\n",
        "    # Compute the mean and standard deviation of the rewards\n",
        "    mean_reward = np.mean(rewards)\n",
        "    std_reward = np.std(rewards)\n",
        "\n",
        "    # Avoid division by zero in case of zero variance (typically happens when all rewards are 0)\n",
        "    # Note: In the GRPO implementation, we add 1e-4 to the std_reward to avoid division by zero\n",
        "    if std_reward == 0:\n",
        "        return [0] * len(rewards)\n",
        "\n",
        "    # Divide by stddev of rewards to normalize range to 0\n",
        "    advantages = (rewards - mean_reward) / std_reward\n",
        "    return advantages.tolist()"
      ],
      "metadata": {
        "id": "neK6NRwTkkt5"
      },
      "id": "neK6NRwTkkt5",
      "execution_count": null,
      "outputs": []
    },
    {
      "cell_type": "code",
      "source": [
        "def print_guesses_table(guesses, rewards):\n",
        "    \"\"\"\n",
        "    Prints a formatted table of guesses, rewards, and normalized advantages.\n",
        "    \"\"\"\n",
        "    if not guesses or not rewards:\n",
        "        print(\"No guesses or rewards to display.\")\n",
        "        return\n",
        "\n",
        "    # Compute advantages\n",
        "    advantages = compute_advantages(rewards)\n",
        "\n",
        "    print(\"\\n=== Wordle Guess Summary ===\")\n",
        "    print(f\"{'Guess':<10} | {'Reward':<7} | {'Advantage':<10}\")\n",
        "    print(\"-\" * 33)\n",
        "\n",
        "    for guess, reward, adv in zip(guesses, rewards, advantages):\n",
        "        print(f\"{guess:<10} | {reward:<7.2f} | {adv:<10.2f}\")\n",
        "\n",
        "    print(\"-\" * 33)\n",
        "    print(f\"Mean reward: {np.mean(rewards):.2f} | Std: {np.std(rewards):.2f}\\n\")"
      ],
      "metadata": {
        "id": "B4A3vEZay865"
      },
      "id": "B4A3vEZay865",
      "execution_count": null,
      "outputs": []
    },
    {
      "cell_type": "code",
      "source": [
        "def generate(messages, num_guesses=6, adapter_id=\"Qwen/Qwen3-32B\"):\n",
        "    \"\"\"\n",
        "    Runs the Wordle guessing loop for a given number of guesses.\n",
        "    Uses the model to generate guesses and collects responses.\n",
        "\n",
        "    Args:\n",
        "        messages (list): Conversation history (system + user context).\n",
        "        num_guesses (int): Number of guesses to generate.\n",
        "        adapter_id (str): Optional model/adapter identifier.\n",
        "\n",
        "    Returns:\n",
        "        list[str]: List of raw model responses (each containing <guess> ... </guess>).\n",
        "    \"\"\"\n",
        "    responses = []\n",
        "    response_guess_word = []\n",
        "    guess_word_reward = []\n",
        "\n",
        "    for i in range(num_guesses):\n",
        "        print(f\"\\n=== Generating Guess {i+1}/{num_guesses} ===\")\n",
        "        response_text = generate_stream(messages, adapter_id)\n",
        "        responses.append(response_text)\n",
        "\n",
        "        # Extract the guessed word from model response\n",
        "        try:\n",
        "            guess_word = extract_guess(response_text)\n",
        "            response_guess_word.append(guess_word)\n",
        "        except ValueError:\n",
        "            print(\"⚠️ No <guess> tag found in model output, skipping this turn.\")\n",
        "            continue\n",
        "\n",
        "        # Compute reward\n",
        "        reward = wordle_reward(guess_word, secret_word)\n",
        "        print(f\"Guessed Word: {guess_word} -> Reward: {reward}\")\n",
        "        guess_word_reward.append(reward)\n",
        "\n",
        "        # If guessed correctly, stop early\n",
        "        if reward == 1:\n",
        "            print(\"🎉 Correct guess! Wordle solved.\")\n",
        "            break\n",
        "\n",
        "        # Append feedback to conversation for next round\n",
        "        feedback_obj = GuessWithFeedback.from_secret(guess_word, secret_word)\n",
        "        messages.append({\n",
        "            \"role\": \"assistant\",\n",
        "            \"content\": response_text\n",
        "        })\n",
        "        messages.append({\n",
        "            \"role\": \"user\",\n",
        "            \"content\": render_user_prompt([feedback_obj])\n",
        "        })\n",
        "\n",
        "    return responses, response_guess_word, guess_word_reward"
      ],
      "metadata": {
        "id": "XnpnxWs22hFW"
      },
      "id": "XnpnxWs22hFW",
      "execution_count": null,
      "outputs": []
    },
    {
      "cell_type": "code",
      "source": [
        "print(f\"Secret: {secret_word}\")\n",
        "response, guess_words, rewards = generate(messages, num_guesses=8)"
      ],
      "metadata": {
        "colab": {
          "base_uri": "https://localhost:8080/"
        },
        "id": "dbIl0wzfqX-h",
        "outputId": "125d5c6c-2579-41bf-cba9-5e5cf7725e73"
      },
      "id": "dbIl0wzfqX-h",
      "execution_count": null,
      "outputs": [
        {
          "output_type": "stream",
          "name": "stdout",
          "text": [
            "Secret: POUND\n",
            "\n",
            "=== Generating Guess 1/8 ===\n",
            "<think>\n",
            "Okay, let's tackle this Wordle puzzle. Let me go through the feedback from each guess and see what clues I can gather.\n",
            "\n",
            "First, the secret word is 5 letters. Let's start with the first guess: CRANE. The feedback was C(x), R(x), A(x), N(✓), E(x). So the fourth letter is N and correct. The rest (C, R, A, E) are not in the word at all. \n",
            "\n",
            "Next guess was BLOND: B(x), L(x), O(-), N(✓), D(✓). So O is in the word but not in the third position here. The N and D are correct in their positions. Wait, in BLOND, the letters are B L O N D. So the feedback says O is present but in the wrong position. Since the secret word's fourth letter is N (from CRANE), and BLOND's N is in position 4 as well, which was already correct. So O must be in the word but not in position 3. \n",
            "\n",
            "Third guess was FOUND: F(x), O(✓), U(✓), N(✓), D(✓). So F is out. Now O, U, N, D are correct in their positions. Let's check where they are in FOUND. O is second, U third, N fourth, D fifth. So from BLOND, O was in third position, but here it's correct in second position. So the secret word must have O in second position, U in third, N in fourth, D in fifth. That makes the word _ O U N D. \n",
            "\n",
            "What's missing is the first letter. Let's check previous guesses. From CRANE, only N was correct. The other letters C, R, A, E are not in the word. From BLOND, O is now in the correct position (second), and D in fifth. The first letter in BLOND was B, but it's not in the word. So the first letter must be something else. \n",
            "\n",
            "Looking at other possibilities. The word is _ O U N D. What 5-letter words fit this pattern? Let me think. Possible letters for the first position... Let's see. Maybe \"LOUDS\"? Wait, but the fifth letter is D, so \"LOUDS\" would end with S, which is not the case. How about \"COULD\"? Let me check. C is in first position here. Wait, in the first guess, C was x (not in word) so C can't be in the word. So COULD is invalid because C is not allowed.\n",
            "\n",
            "Another option: \"TOUCH\"? No, ends with H. How about \"HOUSE\"? No, the fourth letter is N in the secret word. Let's think again. The word ends with UND. Possible words: \"BUNDT\"? But B was x in BLOND. \"RUNDT\"? R was x in CRANE. \"SPUNK\"? Ends with K. Hmm. Wait, the last letters are U, N, D. What about \"STUND\"? Not a common word. Or \"FLUDE\"? No. \n",
            "\n",
            "Wait, the third guess was FOUND, which was O(✓), U(✓), N(✓), D(✓). So the word we're looking for has O in position 2, U in 3, N in 4, D in 5. The only thing left is the first letter. Let's think of words that fit that. The first letter must not be C, R, A, E, B, L, F. Because those letters were x in the previous guesses. \n",
            "\n",
            "Looking at the possible letters. What's left? Let's consider letters that haven't been excluded. From the first feedback, the only correct is N. From BLOND, O is correct but not in position 3. So first letter possibilities could be G, H, J, K, M, P, Q, T, etc. Let's try to think of a common word. For example, \"HOUND\". Let me check if that's possible. H-O-U-N-D. Let's check if that fits with all feedback.\n",
            "\n",
            "First, CRANE's N is correct. For BLOND, O is in position 3 but feedback says O is in the word in wrong position. In HOUND, O is in position 2, so that's correct. So BLOND's O was in position 3, which is wrong, hence the - symbol. Then FOUND's O is correct in position 2. All fits. Now check if H in position 1 is allowed. In previous guesses, none of the first letters were H, and the feedback didn't indicate it was excluded. So HOUND could be the word. Let me verify with all guesses:\n",
            "\n",
            "Guess CRANE: C(x), R(x), A(x), N(✓), E(x) → HOUND's N is correct in position 4. Correct.\n",
            "\n",
            "Guess BLOND: B(x), L(x), O(-), N(✓), D(✓). O is in the word (position 2) but in the wrong position (tried in position 3 in BLOND). Correct.\n",
            "\n",
            "Guess FOUND: F(x), O(✓), U(✓), N(✓), D(✓). Correct.\n",
            "\n",
            "So HOUND fits all the clues. Is there another possibility? What if the first letter is T? \"TOUND\"? Not a valid word. \"GOUND\"? Doesn't exist. So HOUND seems like the best candidate here.\n",
            "</think>\n",
            "\n",
            "<guess> HOUND </guess>\n",
            "Guessed Word: HOUND -> Reward: 0\n",
            "\n",
            "=== Generating Guess 2/8 ===\n",
            "<think>\n",
            "Alright, let's see. The user is playing Wordle and needs to guess a 5-letter word. They've already made a few guesses with feedback. Let's go through the information step by step.\n",
            "\n",
            "First, the previous guesses and feedback are:\n",
            "\n",
            "1. CRANE → C(x), R(x), A(x), N(✓), E(x)\n",
            "2. BLOND → B(x), L(x), O(-), N(✓), D(✓)\n",
            "3. FOUND → F(x), O(✓), U(✓), N(✓), D(✓)\n",
            "4. HOUND → H(x), O(✓), U(✓), N(✓), D(✓)\n",
            "\n",
            "From the first guess, CRANE, we know that N is in the correct position (position 4). The other letters C, R, A, E are not in the word.\n",
            "\n",
            "Second guess, BLOND: O is in the word but in the wrong position (since it's marked as '-', and the original position was 3). N and D are correct in their positions (positions 4 and 5). B, L are not in the word.\n",
            "\n",
            "Third guess, FOUND: O is correct in position 2 now. U is correct in position 3. N and D are still correct. F is not in the word. So the correct letters so far are O (position 2), U (position 3), N (4), D (5). From guess 2, we also had O in position 3, but in guess 3, O is in position 2 and correct. So O is in position 2.\n",
            "\n",
            "Fourth guess, HOUND: The feedback confirms O (position 2), U (3), N (4), D (5) are correct. H is not in the word. So the word so far is _ O U N D.\n",
            "\n",
            "We need to find the first letter. From previous guesses, the letters used for position 1 were H (x), but not present. In the earlier guesses, letters C, B, F, H have been tried in the first position and failed. So possible letters for position 1 are letters not ruled out yet. Looking back, in guess 2, BLOND had B (x) and L (x). Guess 1 had C (x). Guess 3 had F (x). The letters not yet tried in position 1 and not excluded could be A, E, I, K, M, etc. Wait, but A was marked x in first guess (CRANE). So A is excluded. What about \"G\"? Not used yet.\n",
            "\n",
            "But in the third guess, \"FOund\" had F in first position and O in second. Since the correct letters are O in second, maybe the first letter is missing. The user's fourth guess, HOUND, was H in first position. Since H is excluded, perhaps trying another letter. Let's list possible letters for first position. Let's see:\n",
            "\n",
            "From guess 1 to 4, the first letter tried were C, B, F, H. All excluded. So remaining letters could be A (excluded in guess 1?), but in guess 1, A was in the third position and marked x. So A is not in the word. So possible letters for first position: G, I, K, M, P, T, W, etc.\n",
            "\n",
            "But looking at the correct letters so far, the word is _ O U N D. The correct letters are O, U, N, D in positions 2-5. The first letter is missing. Need to find a letter that hasn't been tried yet in the first position and not excluded. Let's check previous feedback for possible letters. In guess 1 (CRANE), the letters in positions that are excluded are C, R, A, E. Guess 2 (BLOND): B, L. Guess 3 (FOUND): F. Guess 4 (HOUND): H. So excluded letters in the first position are C, B, F, H. Need to find a letter not in those and not in other positions unless necessary.\n",
            "\n",
            "Looking for a common letter that can be in first position. Maybe \"S\"? Not tried yet. Let's think: The correct letters are O, U, N, D. The first letter could be something like \"G\" for \"GOODN\"? No. Or \"SO...\", maybe SODAN? Not a word. Or \"COUDN\"? No. Or \"TO...\" like TOOTH? No. Wait, the word structure is _ O U N D. Let's think of words ending withOUND. Common words: \"found\", but that was guess 3. \"Sound\" was in the example as guess 3. Wait, \"sound\" is S-O-U-N-D. But in guess 3, FOUND was F-O-U-N-D. So if the first letter is S, then the word would be SOUND. But in the feedback for FOUND, the N was correct in position 4, D in 5. So if the word is SOUND, then S is first letter. But in guess 3, \"F-O-U-N-D\" gives F(x), O(✓), U(✓), N(✓), D(✓). So the correct letters are O, U, N, D, so if the word is SOUND, then the first letter is S. Let's check if S is allowed. S wasn't used in the first position yet. So the next guess would be \"SOUND\". But wait, the user's fourth guess was HOUND, which got O, U, N, D correct. So the word is _OUND. So the correct letters are in positions 2-5. The first letter needs to be a letter that's not excluded. Let's try \"S\".\n",
            "\n",
            "Therefore, the next guess would be SOUND. Let's check if that's possible. Yes. But wait, in the third guess, FOUND gave feedback for O as ✓ (correct position), which in FOUND is position 2. So the correct position for O is 2. So the word is S-O-U-N-D. So SOUND would be the word. But how do we know? Let's check if there are any other possibilities. Maybe \"SOUND\" is the answer. So the user's next guess would be SOUND. Alternatively, \"ROUND\", but R was excluded in guess 1.\n",
            "</think>\n",
            "\n",
            "<guess> SOUND </guess>\n",
            "Guessed Word: SOUND -> Reward: 0\n",
            "\n",
            "=== Generating Guess 3/8 ===\n",
            "<think>\n",
            "Okay, let's see. I need to figure out the secret word based on the feedback from the previous guesses.\n",
            "\n",
            "Starting with Guess 1: CRANE had feedback C(x), R(x), A(x), N(✓), E(x). So the secret word has an N in the correct position (position 4), and the other letters are not in the word.\n",
            "\n",
            "Guess 2: BLOND had B(x), L(x), O(-), N(✓), D(✓). So O is in the word but in the wrong position (O is in position 3 here, so the secret word's O must be elsewhere). N and D are correct in their positions (N in position 4, D in 5). Wait, BLOND is 5 letters, so the feedback for BLOND would be B L O N D. The feedback was B(x), L(x), O(-), N(✓), D(✓). The O is in the word but wrong position, meaning the secret word has O in a different position than position 3. Since N is in position 4 (✓) and D in 5 (✓), positions 4 and 5 are fixed as N and D. So the secret word must end with \"ND\". From the first guess, CRANE had N in position 4, which was correct. So the fourth letter is N, fifth is D. So the secret word is something-xxND.\n",
            "\n",
            "Then Guess 3: FOUND had feedback F(x), O(✓), U(✓), N(✓), D(✓). So FOUND: F O U N D. Feedback O(✓) would mean O is in position 2. But earlier, from BLOND, the O was in position 3 and marked as -, meaning it should be in a different position. Now in FOUND, O is in position 2 and is ✓, so O is correctly placed here. Also, U is in position 3 and marked ✓, so the third letter is U. N and D are correct again. So the secret word is _OUND. Wait, F is wrong. Let me check:\n",
            "\n",
            "From FOUND's feedback: O is in position 2 (✓), U in position 3 (✓), N in 4 (✓), D in 5 (✓). So the word is _OUND, with the first letter yet unknown. The letters O, U, N, D are in correct positions 2,3,4,5. The only unknown is the first letter.\n",
            "\n",
            "Looking back at BLOND's feedback: O was in position 3 and marked -, meaning that O is in the word but not in position 3. However, in FOUND, O is correctly placed in position 2. So that's consistent. So the word is _OUND. What's the first letter?\n",
            "\n",
            "Looking at previous guesses: \n",
            "\n",
            "CRANE's feedback said all letters except N were x. So C, R, A, E not present. \n",
            "\n",
            "BLOND had B and L as x, so they are not in the word. \n",
            "\n",
            "SOUND (from user's guess) has feedback S(x), so S is not in the word. HOUND had H as x. \n",
            "\n",
            "What letters are possible for the first position? It can't be C, R, A, E, B, L, S, H, F (from FOUND). \n",
            "\n",
            "Possible letters from earlier: From BLOND, O was in position 3 but marked -, but now in FOUND it's position 2. The other letters that haven't been excluded yet. Let's see. \n",
            "\n",
            "The first letter must be a letter that hasn't been x in any feedback. From previous feedbacks:\n",
            "\n",
            "Guess 1: HOUND. H is x, so not in word. O is ✓, U is ✓, N ✓, D ✓.\n",
            "\n",
            "Guess 2: SOUND: S is x, O ✓, U ✓, N ✓, D ✓.\n",
            "\n",
            "So first letter can't be H, S, C, R, A, E, B, L, F, etc. What letters are left?\n",
            "\n",
            "Letters in English words... The remaining possible letters for position 1: G, P, T, W, ... Maybe. Let's think of possible 5-letter words ending with OUND. Let's think:\n",
            "\n",
            "The word is _OUND. What are possible 5-letter words that fit?\n",
            "\n",
            "- BOUND (but B was x in BLOND)\n",
            "- FOUND (but F was x)\n",
            "- HOUSE has different ending. \n",
            "- TOUND? Not a word. \n",
            "- GOUND? Not common.\n",
            "- MOUND? Let's check. MOUND is M-O-U-N-D. Let's see if M is possible. The first letter is M. Let's check if M was excluded.\n",
            "\n",
            "Looking at previous feedback: In CRANE, all letters except N were x. So M wasn't in those. In BLOND, B, L, O(-), N, D. So M hasn't been excluded yet. In FOUND, F is x, so M is not excluded. In HOUND, H is x. In SOUND, S is x. So MOUND is a possible word. Let me check if MOUND is valid.\n",
            "\n",
            "MOUND: M-O-U-N-D. O is in position 2 (✓), U in 3 (✓), N in 4 (✓), D in 5 (✓). The first letter would be M. None of the previous guesses have had M as a correct letter. But let's check if M has been ruled out. \n",
            "\n",
            "Looking at the previous feedbacks: In CRANE, M wasn't guessed. In BLOND, M not involved. In HOUND and SOUND, M wasn't guessed. So MOUND could be the word. Alternatively, GOUND, but that's not a standard word. \n",
            "\n",
            "Another possibility: POUND. Let's see. POUND is P-O-U-N-D. Is P allowed? P hasn't been excluded. Let me check. In previous feedbacks, none of the letters P were guessed. So POUND is another possible candidate. \n",
            "\n",
            "Wait, but what's the correct answer here? The user has given some feedback. The last guess was SOUND, which had S(x), O(✓), U(✓), N(✓), D(✓). The secret word must be XOUND where X is a letter not eliminated. The possible letters are P, M, R (wait R was in CRANE's first guess, which was x, so R is out). So possible first letters: G, P, M, T, etc.\n",
            "\n",
            "What's the most common word? MOUND and POUND are both possible. Let's check which one is more likely. Alternatively, GROUND is too long. \n",
            "\n",
            "Wait, the secret word is 5 letters. The user's last guess was SOUND, and the feedback was S(x), meaning S is not in the word. But if the word is POUND, then S is not present, which is consistent. \n",
            "\n",
            "But how to determine between POUND and MOUND. Let me check previous feedbacks. \n",
            "\n",
            "In BLOND (guess 2), the O was marked as -, meaning O is in the secret word but not in position 3. In BLOND, the O is in position 3 and marked -, which aligns with the secret word having O in position 2 (as in FOUND and SOUND's feedback). So that's consistent with both POUND and MOUND. \n",
            "\n",
            "Looking at the initial CRANE feedback, which had N in position 4 (✓). That's consistent. Are there any other constraints?\n",
            "\n",
            "Are there any other possible letters? For example, GROUND is 6 letters, so not applicable. \n",
            "\n",
            "If the secret word is MOUND, then in the previous guesses: \n",
            "\n",
            "CRANE's C, R, A, E are not in the word. MOUND has M, O, U, N, D. So correct. \n",
            "\n",
            "BLOND's B, L are not in the word. O is in position 2 (BLOND's O is in position 3, marked -, which is consistent with O being in position 2). Correct. \n",
            "\n",
            "FOUND's F is excluded. O in position 2 ✓, U in 3 ✓, N in 4 ✓, D in 5 ✓. So the only difference is the first letter. \n",
            "\n",
            "So the user's next guess could be MOUND or POUND. But which one is more likely? \n",
            "\n",
            "The next guess after SOUND is to try POUND or MOUND. Let's pick one. Since the previous guesses didn't eliminate either's first letters, both are possible. However, given the feedback from BLOND and FOUND, maybe MOUND is more plausible? Or perhaps the correct answer is POUND. \n",
            "\n",
            "Alternatively, maybe the first letter is GOUND? But that's not a standard word. \n",
            "\n",
            "Another possibility: TOUND? Not valid. \n",
            "\n",
            "So the most plausible words are MOUND and POUND. Let's go with MOUND first.\n",
            "</think>\n",
            "\n",
            "<guess> MOUND </guess>\n",
            "Guessed Word: MOUND -> Reward: 0\n",
            "\n",
            "=== Generating Guess 4/8 ===\n",
            "<think>\n",
            "Okay, let's try to figure out the secret word here. So far, the previous guesses and their feedback are:\n",
            "\n",
            "1. **CRANE**: Only **N** was correct in the right position. The rest (C, R, A, E) weren't in the word.\n",
            "2. **BLOND**: **O**, **N**, **D** were correct and in the right positions. **B**, **L** weren't in the word.\n",
            "3. **HOUND**: **O**, **U**, **N**, **D** were correct. **H** wasn't in the word.\n",
            "4. **SOUND**: **O**, **U**, **N**, **D** were correct. **S** wasn't in the word.\n",
            "5. **MOUND**: **O**, **U**, **N**, **D** were correct. **M** wasn't.\n",
            "\n",
            "From these, it seems that the letters **O**, **U**, **N**, **D** are in the correct positions 2 to 5 (positions 2: O, 3: U, 4: N, 5: D). The first letter has been tricky. The first letters tried were H, S, M, all marked as not in the word. \n",
            "\n",
            "The correct word must start with a letter not guessed yet. The only letters not tried in the first position are... Well, the guesses tried H, S, M. What other letters could fit? Maybe **B** from BLOND, but BLOND had B marked as incorrect. Wait, in guess 2, BLOND's B was x, meaning not in the word. So the first letter must be something else.\n",
            "\n",
            "Looking at the feedback from CRANE: C, R, A, E are out. BLOND's L and B are out. HOUND's H is out. SOUND's S is out. MOUND's M is out. So the first letter must be a letter not ruled out yet.\n",
            "\n",
            "Possible letters left for the first position: Let's see. The letters in the allowed 5-letter words, considering previous feedback. What about **F**? If the word is F O U N D. Let me check. The user tried F in guess 3? Wait, guess 3 wasn't F. Let me check earlier guesses. The first guess was CRANE, then BLOND, then HOUND, SOUND, MOUND. So F hasn't been tried. What about F?\n",
            "\n",
            "If the word is FOUND, but in guess 3, FOUND's feedback was F(x), O(✓), U(✓), N(✓), D(✓). But FOUND was a guess, and the feedback indicated F was not in the word. But according to the current pattern, the correct word could be FOUND except the first letter is not F. Wait, but FOUND's feedback was F(x), meaning F is not in the word. So maybe the correct word is a 5-letter word that starts with another letter, but O in position 2, U in 3, N in 4, D in 5.\n",
            "\n",
            "So the first letter must be a different letter. What letters have not been ruled out? Let's see: All letters except those marked x in certain positions. For the first letter, we've tried H, S, M. The letters not in the word from previous guesses are C, R, A, E, B, L, F, M, H, S, etc. Wait, this is getting complex. Maybe the correct word is a less common one. Alternatively, perhaps there's a mistake in the previous analysis. Wait, in guess 1 CRANE, N was correct in position 4, and the rest were x. Then BLOND had O (pos 2), N (pos4), D (pos5) correct. So the first three letters can be something else. But HOUND, SOUND, MOUND all started with different letters and the first was x, meaning those letters aren't in the word.\n",
            "\n",
            "Possible letters for position 1: Let's consider letters that haven't been used and aren't excluded. For example, letters like T, W, maybe. Let's think of words that start with T O U N D? But that's TOUND. Not a real word. How about POUND? Wait, the user tried MOUND, HOUND, which all start with M, H, S. But POUND is a valid word. Wait, but in previous guesses, the first letters tried were H, S, M. Trying POUND would be the next logical step. Let's check. POUND: P in first position. The feedback from previous guesses: O, U, N, D would be in the correct positions. The F from FOUND was marked x, but in POUND, the first letter is P. So far, in the feedback for previous guesses, P hasn't been tested. So POUND is a possible candidate. Let me check the feedback. If the correct word is POUND, then previous guesses:\n",
            "\n",
            "Guess 2: BLOND → O, N, D correct. But L and B are incorrect. That aligns. For HOUND, O, U, N, D correct. Similarly, SOUND. MOUND. So POUND would be the only word fitting OUND at the end with the first letter correct. Therefore, the next guess should be POUND.\n",
            "</think>\n",
            "\n",
            "<guess> POUND </guess>\n",
            "Guessed Word: POUND -> Reward: 1\n",
            "🎉 Correct guess! Wordle solved.\n"
          ]
        }
      ]
    },
    {
      "cell_type": "code",
      "source": [
        "print_guesses_table(guess_words, rewards)"
      ],
      "metadata": {
        "colab": {
          "base_uri": "https://localhost:8080/"
        },
        "id": "tWcWDyKUrMR4",
        "outputId": "96835f70-78c3-44c0-cfd5-e1b34ea35504"
      },
      "id": "tWcWDyKUrMR4",
      "execution_count": null,
      "outputs": [
        {
          "output_type": "stream",
          "name": "stdout",
          "text": [
            "\n",
            "=== Wordle Guess Summary ===\n",
            "Guess      | Reward  | Advantage \n",
            "---------------------------------\n",
            "HOUND      | 0.00    | -0.58     \n",
            "SOUND      | 0.00    | -0.58     \n",
            "MOUND      | 0.00    | -0.58     \n",
            "POUND      | 1.00    | 1.73      \n",
            "---------------------------------\n",
            "Mean reward: 0.25 | Std: 0.43\n",
            "\n"
          ]
        }
      ]
    }
  ],
  "metadata": {
    "kernelspec": {
      "display_name": "Python 3",
      "name": "python3"
    },
    "language_info": {
      "codemirror_mode": {
        "name": "ipython",
        "version": 3
      },
      "file_extension": ".py",
      "mimetype": "text/x-python",
      "name": "python",
      "nbconvert_exporter": "python",
      "pygments_lexer": "ipython3",
      "version": "3.11.3"
    },
    "colab": {
      "provenance": []
    }
  },
  "nbformat": 4,
  "nbformat_minor": 5
}